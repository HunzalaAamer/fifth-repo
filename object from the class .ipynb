{
 "cells": [
  {
   "cell_type": "code",
   "execution_count": 31,
   "id": "24b955da",
   "metadata": {},
   "outputs": [],
   "source": [
    "class Car:\n",
    "    def __init__(self, name, made, model):\n",
    "       self.name = name\n",
    "       self.made = made\n",
    "       self.model = model\n",
    "    def run(self):\n",
    "        print(f\"{self.name} is runing\")\n",
    "       \n",
    "    def speed(self):\n",
    "        print(f\"{self.model} is runing at 20km speed\")"
   ]
  },
  {
   "cell_type": "code",
   "execution_count": 33,
   "id": "d5be044f",
   "metadata": {},
   "outputs": [
    {
     "name": "stdout",
     "output_type": "stream",
     "text": [
      "Car is runing\n",
      "2021 is runing at 20km speed\n",
      "<__main__.Car object at 0x0000021377CC5310>\n"
     ]
    }
   ],
   "source": [
    "car1 = Car(\"Car\", 1948, \"Honda car\")\n",
    "car2 = Car(\"civic car\", 1972, \"2021\")\n",
    "\n",
    "car1.run()\n",
    "car2.speed()\n",
    "\n",
    "print(car1)"
   ]
  }
 ],
 "metadata": {
  "kernelspec": {
   "display_name": "base",
   "language": "python",
   "name": "python3"
  },
  "language_info": {
   "codemirror_mode": {
    "name": "ipython",
    "version": 3
   },
   "file_extension": ".py",
   "mimetype": "text/x-python",
   "name": "python",
   "nbconvert_exporter": "python",
   "pygments_lexer": "ipython3",
   "version": "3.13.2"
  }
 },
 "nbformat": 4,
 "nbformat_minor": 5
}
